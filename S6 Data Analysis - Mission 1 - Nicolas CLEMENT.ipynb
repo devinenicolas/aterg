{
 "cells": [
  {
   "cell_type": "raw",
   "id": "c8bea935",
   "metadata": {},
   "source": [
    "Mission 1 [étude de cas]: \n",
    "1) Se renseigner sur ce qu’est un KPI et à quoi dela sert dans le domaine de la data anlyse \n",
    "2) Importez les bonnes librairies et le dataset resto.csv : https://drive.google.com/file/d/1-OO5g9UYuMsTT6hyJPQSIM6g0ygbqDLV/view?usp=share_link\n",
    "3) Analyser les differentes variables (columns) du dataset\n",
    "4) Afficher la dimension du dataset et les statistique descriptives ?\n",
    "5) Affichez toutes les colonnes du dataset sous forme d'objet list python\n",
    "6) Quel est l’item le plus commandé ?\n",
    "7) Combien d’items ont été commandés au total chez Chipotle\n",
    "8) Combien de chiffre d’affaire à realisé la société ?\n",
    "9) Quel est le revenu moyen par commande ? \n",
    "10) Formaliser une petite conclusion sous forme de rapport d'analyse dans un jupyter notebook en ajoutant si vous le voulez des graphiques ou d'autres analyses pertinentes. "
   ]
  },
  {
   "cell_type": "raw",
   "id": "da12b02d",
   "metadata": {},
   "source": [
    "un KPI (Key performance indicator) est un indicateur de performance clé, généralement utilisé en entreprise pour indiquer la performance d'une personne, d'un groupe, d'un processus ou une activité. Il permet de donner des indications sur ce qui importe le plus.\n",
    "\n",
    "Cet indicateur doit ête:\n",
    "- Clé, soit IMPORTANT\n",
    "- Mesurer la PERFORMANCE\n",
    "- Souvent QUANTITATIF, parfois QUALITATIF "
   ]
  },
  {
   "cell_type": "code",
   "execution_count": 1,
   "id": "56715260",
   "metadata": {},
   "outputs": [],
   "source": [
    "import numpy as np\n",
    "import pandas as pd\n",
    "import seaborn as sns\n",
    "import matplotlib.pyplot as plt"
   ]
  },
  {
   "cell_type": "code",
   "execution_count": 2,
   "id": "d4901354",
   "metadata": {},
   "outputs": [],
   "source": [
    "resto = pd.read_csv(\"resto.csv\")"
   ]
  },
  {
   "cell_type": "code",
   "execution_count": 3,
   "id": "0ac40b6b",
   "metadata": {},
   "outputs": [
    {
     "data": {
      "text/html": [
       "<div>\n",
       "<style scoped>\n",
       "    .dataframe tbody tr th:only-of-type {\n",
       "        vertical-align: middle;\n",
       "    }\n",
       "\n",
       "    .dataframe tbody tr th {\n",
       "        vertical-align: top;\n",
       "    }\n",
       "\n",
       "    .dataframe thead th {\n",
       "        text-align: right;\n",
       "    }\n",
       "</style>\n",
       "<table border=\"1\" class=\"dataframe\">\n",
       "  <thead>\n",
       "    <tr style=\"text-align: right;\">\n",
       "      <th></th>\n",
       "      <th>Unnamed: 0</th>\n",
       "      <th>order_id</th>\n",
       "      <th>quantity</th>\n",
       "      <th>item_name</th>\n",
       "      <th>choice_description</th>\n",
       "      <th>item_price</th>\n",
       "    </tr>\n",
       "  </thead>\n",
       "  <tbody>\n",
       "    <tr>\n",
       "      <th>0</th>\n",
       "      <td>0</td>\n",
       "      <td>1</td>\n",
       "      <td>1</td>\n",
       "      <td>Chips and Fresh Tomato Salsa</td>\n",
       "      <td>NaN</td>\n",
       "      <td>$2.39</td>\n",
       "    </tr>\n",
       "    <tr>\n",
       "      <th>1</th>\n",
       "      <td>1</td>\n",
       "      <td>1</td>\n",
       "      <td>1</td>\n",
       "      <td>Izze</td>\n",
       "      <td>[Clementine]</td>\n",
       "      <td>$3.39</td>\n",
       "    </tr>\n",
       "    <tr>\n",
       "      <th>2</th>\n",
       "      <td>2</td>\n",
       "      <td>1</td>\n",
       "      <td>1</td>\n",
       "      <td>Nantucket Nectar</td>\n",
       "      <td>[Apple]</td>\n",
       "      <td>$3.39</td>\n",
       "    </tr>\n",
       "    <tr>\n",
       "      <th>3</th>\n",
       "      <td>3</td>\n",
       "      <td>1</td>\n",
       "      <td>1</td>\n",
       "      <td>Chips and Tomatillo-Green Chili Salsa</td>\n",
       "      <td>NaN</td>\n",
       "      <td>$2.39</td>\n",
       "    </tr>\n",
       "    <tr>\n",
       "      <th>4</th>\n",
       "      <td>4</td>\n",
       "      <td>2</td>\n",
       "      <td>2</td>\n",
       "      <td>Chicken Bowl</td>\n",
       "      <td>[Tomatillo-Red Chili Salsa (Hot), [Black Beans...</td>\n",
       "      <td>$16.98</td>\n",
       "    </tr>\n",
       "    <tr>\n",
       "      <th>...</th>\n",
       "      <td>...</td>\n",
       "      <td>...</td>\n",
       "      <td>...</td>\n",
       "      <td>...</td>\n",
       "      <td>...</td>\n",
       "      <td>...</td>\n",
       "    </tr>\n",
       "    <tr>\n",
       "      <th>4617</th>\n",
       "      <td>4617</td>\n",
       "      <td>1833</td>\n",
       "      <td>1</td>\n",
       "      <td>Steak Burrito</td>\n",
       "      <td>[Fresh Tomato Salsa, [Rice, Black Beans, Sour ...</td>\n",
       "      <td>$11.75</td>\n",
       "    </tr>\n",
       "    <tr>\n",
       "      <th>4618</th>\n",
       "      <td>4618</td>\n",
       "      <td>1833</td>\n",
       "      <td>1</td>\n",
       "      <td>Steak Burrito</td>\n",
       "      <td>[Fresh Tomato Salsa, [Rice, Sour Cream, Cheese...</td>\n",
       "      <td>$11.75</td>\n",
       "    </tr>\n",
       "    <tr>\n",
       "      <th>4619</th>\n",
       "      <td>4619</td>\n",
       "      <td>1834</td>\n",
       "      <td>1</td>\n",
       "      <td>Chicken Salad Bowl</td>\n",
       "      <td>[Fresh Tomato Salsa, [Fajita Vegetables, Pinto...</td>\n",
       "      <td>$11.25</td>\n",
       "    </tr>\n",
       "    <tr>\n",
       "      <th>4620</th>\n",
       "      <td>4620</td>\n",
       "      <td>1834</td>\n",
       "      <td>1</td>\n",
       "      <td>Chicken Salad Bowl</td>\n",
       "      <td>[Fresh Tomato Salsa, [Fajita Vegetables, Lettu...</td>\n",
       "      <td>$8.75</td>\n",
       "    </tr>\n",
       "    <tr>\n",
       "      <th>4621</th>\n",
       "      <td>4621</td>\n",
       "      <td>1834</td>\n",
       "      <td>1</td>\n",
       "      <td>Chicken Salad Bowl</td>\n",
       "      <td>[Fresh Tomato Salsa, [Fajita Vegetables, Pinto...</td>\n",
       "      <td>$8.75</td>\n",
       "    </tr>\n",
       "  </tbody>\n",
       "</table>\n",
       "<p>4622 rows × 6 columns</p>\n",
       "</div>"
      ],
      "text/plain": [
       "      Unnamed: 0  order_id  quantity                              item_name  \\\n",
       "0              0         1         1           Chips and Fresh Tomato Salsa   \n",
       "1              1         1         1                                   Izze   \n",
       "2              2         1         1                       Nantucket Nectar   \n",
       "3              3         1         1  Chips and Tomatillo-Green Chili Salsa   \n",
       "4              4         2         2                           Chicken Bowl   \n",
       "...          ...       ...       ...                                    ...   \n",
       "4617        4617      1833         1                          Steak Burrito   \n",
       "4618        4618      1833         1                          Steak Burrito   \n",
       "4619        4619      1834         1                     Chicken Salad Bowl   \n",
       "4620        4620      1834         1                     Chicken Salad Bowl   \n",
       "4621        4621      1834         1                     Chicken Salad Bowl   \n",
       "\n",
       "                                     choice_description item_price  \n",
       "0                                                   NaN     $2.39   \n",
       "1                                          [Clementine]     $3.39   \n",
       "2                                               [Apple]     $3.39   \n",
       "3                                                   NaN     $2.39   \n",
       "4     [Tomatillo-Red Chili Salsa (Hot), [Black Beans...    $16.98   \n",
       "...                                                 ...        ...  \n",
       "4617  [Fresh Tomato Salsa, [Rice, Black Beans, Sour ...    $11.75   \n",
       "4618  [Fresh Tomato Salsa, [Rice, Sour Cream, Cheese...    $11.75   \n",
       "4619  [Fresh Tomato Salsa, [Fajita Vegetables, Pinto...    $11.25   \n",
       "4620  [Fresh Tomato Salsa, [Fajita Vegetables, Lettu...     $8.75   \n",
       "4621  [Fresh Tomato Salsa, [Fajita Vegetables, Pinto...     $8.75   \n",
       "\n",
       "[4622 rows x 6 columns]"
      ]
     },
     "execution_count": 3,
     "metadata": {},
     "output_type": "execute_result"
    }
   ],
   "source": [
    "resto"
   ]
  },
  {
   "cell_type": "code",
   "execution_count": 4,
   "id": "b6dc3e57",
   "metadata": {},
   "outputs": [
    {
     "data": {
      "text/html": [
       "<div>\n",
       "<style scoped>\n",
       "    .dataframe tbody tr th:only-of-type {\n",
       "        vertical-align: middle;\n",
       "    }\n",
       "\n",
       "    .dataframe tbody tr th {\n",
       "        vertical-align: top;\n",
       "    }\n",
       "\n",
       "    .dataframe thead th {\n",
       "        text-align: right;\n",
       "    }\n",
       "</style>\n",
       "<table border=\"1\" class=\"dataframe\">\n",
       "  <thead>\n",
       "    <tr style=\"text-align: right;\">\n",
       "      <th></th>\n",
       "      <th>Unnamed: 0</th>\n",
       "      <th>order_id</th>\n",
       "      <th>quantity</th>\n",
       "    </tr>\n",
       "  </thead>\n",
       "  <tbody>\n",
       "    <tr>\n",
       "      <th>count</th>\n",
       "      <td>4622.000000</td>\n",
       "      <td>4622.000000</td>\n",
       "      <td>4622.000000</td>\n",
       "    </tr>\n",
       "    <tr>\n",
       "      <th>mean</th>\n",
       "      <td>2310.500000</td>\n",
       "      <td>927.254868</td>\n",
       "      <td>1.075725</td>\n",
       "    </tr>\n",
       "    <tr>\n",
       "      <th>std</th>\n",
       "      <td>1334.400802</td>\n",
       "      <td>528.890796</td>\n",
       "      <td>0.410186</td>\n",
       "    </tr>\n",
       "    <tr>\n",
       "      <th>min</th>\n",
       "      <td>0.000000</td>\n",
       "      <td>1.000000</td>\n",
       "      <td>1.000000</td>\n",
       "    </tr>\n",
       "    <tr>\n",
       "      <th>25%</th>\n",
       "      <td>1155.250000</td>\n",
       "      <td>477.250000</td>\n",
       "      <td>1.000000</td>\n",
       "    </tr>\n",
       "    <tr>\n",
       "      <th>50%</th>\n",
       "      <td>2310.500000</td>\n",
       "      <td>926.000000</td>\n",
       "      <td>1.000000</td>\n",
       "    </tr>\n",
       "    <tr>\n",
       "      <th>75%</th>\n",
       "      <td>3465.750000</td>\n",
       "      <td>1393.000000</td>\n",
       "      <td>1.000000</td>\n",
       "    </tr>\n",
       "    <tr>\n",
       "      <th>max</th>\n",
       "      <td>4621.000000</td>\n",
       "      <td>1834.000000</td>\n",
       "      <td>15.000000</td>\n",
       "    </tr>\n",
       "  </tbody>\n",
       "</table>\n",
       "</div>"
      ],
      "text/plain": [
       "        Unnamed: 0     order_id     quantity\n",
       "count  4622.000000  4622.000000  4622.000000\n",
       "mean   2310.500000   927.254868     1.075725\n",
       "std    1334.400802   528.890796     0.410186\n",
       "min       0.000000     1.000000     1.000000\n",
       "25%    1155.250000   477.250000     1.000000\n",
       "50%    2310.500000   926.000000     1.000000\n",
       "75%    3465.750000  1393.000000     1.000000\n",
       "max    4621.000000  1834.000000    15.000000"
      ]
     },
     "execution_count": 4,
     "metadata": {},
     "output_type": "execute_result"
    }
   ],
   "source": [
    "resto.describe()"
   ]
  },
  {
   "cell_type": "code",
   "execution_count": 8,
   "id": "49c634cb",
   "metadata": {},
   "outputs": [
    {
     "data": {
      "text/plain": [
       "['Unnamed: 0',\n",
       " 'order_id',\n",
       " 'quantity',\n",
       " 'item_name',\n",
       " 'choice_description',\n",
       " 'item_price']"
      ]
     },
     "execution_count": 8,
     "metadata": {},
     "output_type": "execute_result"
    }
   ],
   "source": [
    "list(resto)"
   ]
  },
  {
   "cell_type": "code",
   "execution_count": 9,
   "id": "1f556e25",
   "metadata": {},
   "outputs": [
    {
     "data": {
      "text/plain": [
       "count             4622\n",
       "unique              50\n",
       "top       Chicken Bowl\n",
       "freq               726\n",
       "Name: item_name, dtype: object"
      ]
     },
     "execution_count": 9,
     "metadata": {},
     "output_type": "execute_result"
    }
   ],
   "source": [
    "resto.item_name.describe()"
   ]
  },
  {
   "cell_type": "markdown",
   "id": "a3f34beb",
   "metadata": {},
   "source": [
    "# Le plat le plus commandé est: \"Chicken Bowl\", commandé 726 fois."
   ]
  },
  {
   "cell_type": "markdown",
   "id": "ba482e29",
   "metadata": {},
   "source": [
    "# Il y a 50 plats disponible au menu du restaurant. (catégorie unique) "
   ]
  },
  {
   "cell_type": "markdown",
   "id": "58654ac8",
   "metadata": {},
   "source": [
    "# Au total, le restaurant a reçu 4622 commandes enregistrés dans ce fichier"
   ]
  },
  {
   "cell_type": "code",
   "execution_count": 21,
   "id": "eef9a088",
   "metadata": {},
   "outputs": [],
   "source": [
    "#Enlève tous les caractères dans les chaines de caractères d'une series\"\n",
    "resto['item_price'] = resto['item_price'].str.replace('$', '', regex=True)"
   ]
  },
  {
   "cell_type": "code",
   "execution_count": 22,
   "id": "1910860a",
   "metadata": {},
   "outputs": [
    {
     "data": {
      "text/html": [
       "<div>\n",
       "<style scoped>\n",
       "    .dataframe tbody tr th:only-of-type {\n",
       "        vertical-align: middle;\n",
       "    }\n",
       "\n",
       "    .dataframe tbody tr th {\n",
       "        vertical-align: top;\n",
       "    }\n",
       "\n",
       "    .dataframe thead th {\n",
       "        text-align: right;\n",
       "    }\n",
       "</style>\n",
       "<table border=\"1\" class=\"dataframe\">\n",
       "  <thead>\n",
       "    <tr style=\"text-align: right;\">\n",
       "      <th></th>\n",
       "      <th>Unnamed: 0</th>\n",
       "      <th>order_id</th>\n",
       "      <th>quantity</th>\n",
       "      <th>item_name</th>\n",
       "      <th>choice_description</th>\n",
       "      <th>item_price</th>\n",
       "    </tr>\n",
       "  </thead>\n",
       "  <tbody>\n",
       "    <tr>\n",
       "      <th>0</th>\n",
       "      <td>0</td>\n",
       "      <td>1</td>\n",
       "      <td>1</td>\n",
       "      <td>Chips and Fresh Tomato Salsa</td>\n",
       "      <td>NaN</td>\n",
       "      <td>2.39</td>\n",
       "    </tr>\n",
       "    <tr>\n",
       "      <th>1</th>\n",
       "      <td>1</td>\n",
       "      <td>1</td>\n",
       "      <td>1</td>\n",
       "      <td>Izze</td>\n",
       "      <td>[Clementine]</td>\n",
       "      <td>3.39</td>\n",
       "    </tr>\n",
       "    <tr>\n",
       "      <th>2</th>\n",
       "      <td>2</td>\n",
       "      <td>1</td>\n",
       "      <td>1</td>\n",
       "      <td>Nantucket Nectar</td>\n",
       "      <td>[Apple]</td>\n",
       "      <td>3.39</td>\n",
       "    </tr>\n",
       "    <tr>\n",
       "      <th>3</th>\n",
       "      <td>3</td>\n",
       "      <td>1</td>\n",
       "      <td>1</td>\n",
       "      <td>Chips and Tomatillo-Green Chili Salsa</td>\n",
       "      <td>NaN</td>\n",
       "      <td>2.39</td>\n",
       "    </tr>\n",
       "    <tr>\n",
       "      <th>4</th>\n",
       "      <td>4</td>\n",
       "      <td>2</td>\n",
       "      <td>2</td>\n",
       "      <td>Chicken Bowl</td>\n",
       "      <td>[Tomatillo-Red Chili Salsa (Hot), [Black Beans...</td>\n",
       "      <td>16.98</td>\n",
       "    </tr>\n",
       "    <tr>\n",
       "      <th>...</th>\n",
       "      <td>...</td>\n",
       "      <td>...</td>\n",
       "      <td>...</td>\n",
       "      <td>...</td>\n",
       "      <td>...</td>\n",
       "      <td>...</td>\n",
       "    </tr>\n",
       "    <tr>\n",
       "      <th>4617</th>\n",
       "      <td>4617</td>\n",
       "      <td>1833</td>\n",
       "      <td>1</td>\n",
       "      <td>Steak Burrito</td>\n",
       "      <td>[Fresh Tomato Salsa, [Rice, Black Beans, Sour ...</td>\n",
       "      <td>11.75</td>\n",
       "    </tr>\n",
       "    <tr>\n",
       "      <th>4618</th>\n",
       "      <td>4618</td>\n",
       "      <td>1833</td>\n",
       "      <td>1</td>\n",
       "      <td>Steak Burrito</td>\n",
       "      <td>[Fresh Tomato Salsa, [Rice, Sour Cream, Cheese...</td>\n",
       "      <td>11.75</td>\n",
       "    </tr>\n",
       "    <tr>\n",
       "      <th>4619</th>\n",
       "      <td>4619</td>\n",
       "      <td>1834</td>\n",
       "      <td>1</td>\n",
       "      <td>Chicken Salad Bowl</td>\n",
       "      <td>[Fresh Tomato Salsa, [Fajita Vegetables, Pinto...</td>\n",
       "      <td>11.25</td>\n",
       "    </tr>\n",
       "    <tr>\n",
       "      <th>4620</th>\n",
       "      <td>4620</td>\n",
       "      <td>1834</td>\n",
       "      <td>1</td>\n",
       "      <td>Chicken Salad Bowl</td>\n",
       "      <td>[Fresh Tomato Salsa, [Fajita Vegetables, Lettu...</td>\n",
       "      <td>8.75</td>\n",
       "    </tr>\n",
       "    <tr>\n",
       "      <th>4621</th>\n",
       "      <td>4621</td>\n",
       "      <td>1834</td>\n",
       "      <td>1</td>\n",
       "      <td>Chicken Salad Bowl</td>\n",
       "      <td>[Fresh Tomato Salsa, [Fajita Vegetables, Pinto...</td>\n",
       "      <td>8.75</td>\n",
       "    </tr>\n",
       "  </tbody>\n",
       "</table>\n",
       "<p>4622 rows × 6 columns</p>\n",
       "</div>"
      ],
      "text/plain": [
       "      Unnamed: 0  order_id  quantity                              item_name  \\\n",
       "0              0         1         1           Chips and Fresh Tomato Salsa   \n",
       "1              1         1         1                                   Izze   \n",
       "2              2         1         1                       Nantucket Nectar   \n",
       "3              3         1         1  Chips and Tomatillo-Green Chili Salsa   \n",
       "4              4         2         2                           Chicken Bowl   \n",
       "...          ...       ...       ...                                    ...   \n",
       "4617        4617      1833         1                          Steak Burrito   \n",
       "4618        4618      1833         1                          Steak Burrito   \n",
       "4619        4619      1834         1                     Chicken Salad Bowl   \n",
       "4620        4620      1834         1                     Chicken Salad Bowl   \n",
       "4621        4621      1834         1                     Chicken Salad Bowl   \n",
       "\n",
       "                                     choice_description item_price  \n",
       "0                                                   NaN      2.39   \n",
       "1                                          [Clementine]      3.39   \n",
       "2                                               [Apple]      3.39   \n",
       "3                                                   NaN      2.39   \n",
       "4     [Tomatillo-Red Chili Salsa (Hot), [Black Beans...     16.98   \n",
       "...                                                 ...        ...  \n",
       "4617  [Fresh Tomato Salsa, [Rice, Black Beans, Sour ...     11.75   \n",
       "4618  [Fresh Tomato Salsa, [Rice, Sour Cream, Cheese...     11.75   \n",
       "4619  [Fresh Tomato Salsa, [Fajita Vegetables, Pinto...     11.25   \n",
       "4620  [Fresh Tomato Salsa, [Fajita Vegetables, Lettu...      8.75   \n",
       "4621  [Fresh Tomato Salsa, [Fajita Vegetables, Pinto...      8.75   \n",
       "\n",
       "[4622 rows x 6 columns]"
      ]
     },
     "execution_count": 22,
     "metadata": {},
     "output_type": "execute_result"
    }
   ],
   "source": [
    "resto"
   ]
  },
  {
   "cell_type": "code",
   "execution_count": 23,
   "id": "4475e5cd",
   "metadata": {},
   "outputs": [],
   "source": [
    "resto['item_price'] = resto['item_price'].astype(float)"
   ]
  },
  {
   "cell_type": "code",
   "execution_count": 26,
   "id": "d33e1ccf",
   "metadata": {},
   "outputs": [
    {
     "data": {
      "text/plain": [
       "34500.16"
      ]
     },
     "execution_count": 26,
     "metadata": {},
     "output_type": "execute_result"
    }
   ],
   "source": [
    "ca = resto.item_price.sum()\n",
    "ca"
   ]
  },
  {
   "cell_type": "code",
   "execution_count": 178,
   "id": "b97f0484",
   "metadata": {},
   "outputs": [
    {
     "name": "stdout",
     "output_type": "stream",
     "text": [
      "Le restaurant a réalisé un Chiffre d'affaire de 34500.16 dollars pour l'ensemble de ces commandes enregistrés\n"
     ]
    }
   ],
   "source": [
    "print(f\"Le restaurant a réalisé un Chiffre d'affaire de {ca} dollars pour l'ensemble de ces commandes enregistrés\")"
   ]
  },
  {
   "cell_type": "markdown",
   "id": "6a7bc37a",
   "metadata": {},
   "source": [
    "# Le restaurant a réalisé un Chiffre d'affaire de 34500.16 dollars pour l'ensemble de ces commandes enregistrés"
   ]
  },
  {
   "cell_type": "code",
   "execution_count": 30,
   "id": "124a5f98",
   "metadata": {},
   "outputs": [
    {
     "data": {
      "text/plain": [
       "count    4622.000000\n",
       "mean        7.464336\n",
       "std         4.245557\n",
       "min         1.090000\n",
       "25%         3.390000\n",
       "50%         8.750000\n",
       "75%         9.250000\n",
       "max        44.250000\n",
       "Name: item_price, dtype: float64"
      ]
     },
     "execution_count": 30,
     "metadata": {},
     "output_type": "execute_result"
    }
   ],
   "source": [
    "resto.item_price.describe()"
   ]
  },
  {
   "cell_type": "code",
   "execution_count": 73,
   "id": "aba35f48",
   "metadata": {},
   "outputs": [
    {
     "data": {
      "text/plain": [
       "7.464335785374397"
      ]
     },
     "execution_count": 73,
     "metadata": {},
     "output_type": "execute_result"
    }
   ],
   "source": [
    "prix_moyen = resto.item_price.mean()\n",
    "prix_moyen\n"
   ]
  },
  {
   "cell_type": "code",
   "execution_count": 36,
   "id": "cd4416fb",
   "metadata": {},
   "outputs": [
    {
     "name": "stdout",
     "output_type": "stream",
     "text": [
      "Le prix moyen d'une commande est de 7.46 dollars\n"
     ]
    }
   ],
   "source": [
    "print(f\"Le prix moyen d'une commande est de {round(prix_moyen, 2)} dollars\")"
   ]
  },
  {
   "cell_type": "markdown",
   "id": "a3823953",
   "metadata": {},
   "source": [
    "# Le prix moyen d'une commande est de 7.46 dollars\n"
   ]
  },
  {
   "cell_type": "markdown",
   "id": "9b9fa66d",
   "metadata": {},
   "source": [
    "# Chiffre d'affaire par plat ci-dessous"
   ]
  },
  {
   "cell_type": "code",
   "execution_count": 149,
   "id": "4b61f779",
   "metadata": {},
   "outputs": [
    {
     "name": "stdout",
     "output_type": "stream",
     "text": [
      "<class 'pandas.core.series.Series'>\n"
     ]
    },
    {
     "data": {
      "text/plain": [
       "item_name\n",
       "Chips and Mild Fresh Tomato Salsa           3.00\n",
       "Veggie Crispy Tacos                         8.49\n",
       "Carnitas Salad                              8.99\n",
       "Crispy Tacos                               14.80\n",
       "Salad                                      14.80\n",
       "Bowl                                       29.60\n",
       "Steak Salad                                35.66\n",
       "Chips and Roasted Chili-Corn Salsa         43.02\n",
       "Burrito                                    44.40\n",
       "Veggie Salad                               50.94\n",
       "Chips and Tomatillo-Red Chili Salsa        59.75\n",
       "Carnitas Salad Bowl                        66.34\n",
       "Izze                                       67.80\n",
       "Chips and Roasted Chili Corn Salsa         67.85\n",
       "Veggie Soft Tacos                          73.96\n",
       "Carnitas Crispy Tacos                      77.96\n",
       "Chips and Tomatillo-Green Chili Salsa      78.87\n",
       "Chicken Salad                              81.09\n",
       "Nantucket Nectar                           98.31\n",
       "Barbacoa Salad Bowl                       106.40\n",
       "Barbacoa Crispy Tacos                     120.21\n",
       "Chips and Tomatillo Green Chili Salsa     132.75\n",
       "Canned Soda                               137.34\n",
       "Chips and Tomatillo Red Chili Salsa       147.50\n",
       "Veggie Salad Bowl                         182.50\n",
       "Side of Chips                             185.90\n",
       "Barbacoa Soft Tacos                       250.46\n",
       "Bottled Water                             302.56\n",
       "Steak Salad Bowl                          343.59\n",
       "6 Pack Soft Drink                         356.95\n",
       "Steak Crispy Tacos                        357.34\n",
       "Chips and Fresh Tomato Salsa              361.36\n",
       "Carnitas Soft Tacos                       375.94\n",
       "Canned Soft Drink                         438.75\n",
       "Chicken Crispy Tacos                      472.13\n",
       "Chips                                     494.34\n",
       "Steak Soft Tacos                          536.05\n",
       "Carnitas Burrito                          597.83\n",
       "Barbacoa Bowl                             672.36\n",
       "Carnitas Bowl                             736.71\n",
       "Veggie Bowl                               867.99\n",
       "Barbacoa Burrito                          894.75\n",
       "Veggie Burrito                            934.77\n",
       "Chicken Soft Tacos                       1108.09\n",
       "Chicken Salad Bowl                       1228.75\n",
       "Chips and Guacamole                      2201.04\n",
       "Steak Bowl                               2260.19\n",
       "Steak Burrito                            3851.43\n",
       "Chicken Burrito                          5575.82\n",
       "Chicken Bowl                             7342.73\n",
       "Name: item_price, dtype: float64"
      ]
     },
     "execution_count": 149,
     "metadata": {},
     "output_type": "execute_result"
    }
   ],
   "source": [
    "#Chiffre d'affaire par plat\n",
    "ca_par_plat = resto.groupby('item_name', axis=0, sort=True).item_price.sum()\n",
    "\n",
    "#Quel type d'objet Python ?\n",
    "print(type(ca_par_plat))\n",
    "\n",
    "#Triés croissants\n",
    "ca_par_plat = ca_par_plat.sort_values(ascending=True)\n",
    "ca_par_plat"
   ]
  },
  {
   "cell_type": "code",
   "execution_count": 150,
   "id": "df357f84",
   "metadata": {},
   "outputs": [
    {
     "data": {
      "text/plain": [
       "item_name\n",
       "Crispy Tacos                      14.80\n",
       "Salad                             14.80\n",
       "Bowl                              29.60\n",
       "Veggie Salad                      50.94\n",
       "Nantucket Nectar                  98.31\n",
       "Side of Chips                    185.90\n",
       "Chips and Fresh Tomato Salsa     361.36\n",
       "Barbacoa Bowl                    672.36\n",
       "Chicken Soft Tacos              1108.09\n",
       "Chips and Guacamole             2201.04\n",
       "Name: item_price, dtype: float64"
      ]
     },
     "execution_count": 150,
     "metadata": {},
     "output_type": "execute_result"
    }
   ],
   "source": [
    "#Echantillon des ventes par plat.\n",
    "\n",
    "echantillon_ventes = ca_par_plat.sample(10)\n",
    "\n",
    "echantillon_ventes.sort_values(ascending=True)"
   ]
  },
  {
   "cell_type": "markdown",
   "id": "831ba7ff",
   "metadata": {},
   "source": [
    "# Selection des meilleures ventes"
   ]
  },
  {
   "cell_type": "code",
   "execution_count": 169,
   "id": "39f50ad3",
   "metadata": {},
   "outputs": [
    {
     "data": {
      "text/plain": [
       "item_name\n",
       "Chips and Guacamole    2201.04\n",
       "Steak Bowl             2260.19\n",
       "Steak Burrito          3851.43\n",
       "Chicken Burrito        5575.82\n",
       "Chicken Bowl           7342.73\n",
       "Name: item_price, dtype: float64"
      ]
     },
     "execution_count": 169,
     "metadata": {},
     "output_type": "execute_result"
    }
   ],
   "source": [
    "meilleures_ventes = ca_par_plat[-5::]\n",
    "meilleures_ventes"
   ]
  },
  {
   "cell_type": "code",
   "execution_count": 168,
   "id": "707ef889",
   "metadata": {},
   "outputs": [
    {
     "data": {
      "text/plain": [
       "<AxesSubplot:xlabel='item_name'>"
      ]
     },
     "execution_count": 168,
     "metadata": {},
     "output_type": "execute_result"
    },
    {
     "data": {
      "image/png": "[encoded data removed]",
      "text/plain": [
       "<Figure size 640x480 with 1 Axes>"
      ]
     },
     "metadata": {},
     "output_type": "display_data"
    }
   ],
   "source": [
    "type(meilleures_ventes)\n",
    "\n",
    "meilleures_ventes.plot()"
   ]
  }
 ],
 "metadata": {
  "kernelspec": {
   "display_name": "Python 3 (ipykernel)",
   "language": "python",
   "name": "python3"
  },
  "language_info": {
   "codemirror_mode": {
    "name": "ipython",
    "version": 3
   },
   "file_extension": ".py",
   "mimetype": "text/x-python",
   "name": "python",
   "nbconvert_exporter": "python",
   "pygments_lexer": "ipython3",
   "version": "3.9.13"
  }
 },
 "nbformat": 4,
 "nbformat_minor": 5
}
